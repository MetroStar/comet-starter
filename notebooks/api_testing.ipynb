{
 "cells": [
  {
   "cell_type": "markdown",
   "metadata": {},
   "source": [
    "# API Testing Notebook\n",
    "- This notebook is intended to support the frontend developer experience, and provide a means of making backend API calls outside of the browser. Below are standard API calls which can be fine-tuned to actual APIs.\n",
    "- This notebook requires a basic python environment to be available"
   ]
  },
  {
   "cell_type": "markdown",
   "metadata": {},
   "source": [
    "## Setup"
   ]
  },
  {
   "cell_type": "code",
   "execution_count": null,
   "metadata": {},
   "outputs": [],
   "source": [
    "import requests\n",
    "from pprint import pprint\n",
    "\n",
    "api_base_url = 'http://localhost:5000/api'\n",
    "token = \"\" # Replace with your token."
   ]
  },
  {
   "cell_type": "markdown",
   "metadata": {},
   "source": [
    "## Verify API is Accessible"
   ]
  },
  {
   "cell_type": "code",
   "execution_count": null,
   "metadata": {},
   "outputs": [],
   "source": [
    "response = requests.get(f\"{api_base_url}/health\")\n",
    "print(response.json())"
   ]
  },
  {
   "cell_type": "markdown",
   "metadata": {},
   "source": [
    "## Get All Items"
   ]
  },
  {
   "cell_type": "code",
   "execution_count": null,
   "metadata": {},
   "outputs": [],
   "source": [
    "headers = {\n",
    "    'Authorization': f'Bearer {token}',\n",
    "    'Accept': 'application/json',\n",
    "}\n",
    "\n",
    "response = requests.get(f\"{api_base_url}/cases\", headers=headers)\n",
    "if response.status_code == 200:\n",
    "  response_json = response.json()\n",
    "  item_count = response_json.get('item_count')\n",
    "  items = response_json.get('items')\n",
    "  print(f\"Item Count: {item_count}\")\n",
    "  pprint(items)\n",
    "else:\n",
    "  print(f\"Error: {response.status_code}\")\n",
    "  print(response.text)"
   ]
  },
  {
   "cell_type": "markdown",
   "metadata": {},
   "source": [
    "## Get Item"
   ]
  },
  {
   "cell_type": "code",
   "execution_count": null,
   "metadata": {},
   "outputs": [],
   "source": [
    "headers = {\n",
    "    'Authorization': f'Bearer {token}',\n",
    "    'Accept': 'application/json',\n",
    "}\n",
    "\n",
    "response = requests.get(f\"{api_base_url}/cases/1\", headers=headers)\n",
    "if response.status_code == 200:\n",
    "  pprint(response.json())\n",
    "else:\n",
    "  print(f\"Error: {response.status_code}\")\n",
    "  print(response.text)"
   ]
  }
 ],
 "metadata": {
  "kernelspec": {
   "display_name": "base",
   "language": "python",
   "name": "python3"
  },
  "language_info": {
   "codemirror_mode": {
    "name": "ipython",
    "version": 3
   },
   "file_extension": ".py",
   "mimetype": "text/x-python",
   "name": "python",
   "nbconvert_exporter": "python",
   "pygments_lexer": "ipython3",
   "version": "3.12.7"
  }
 },
 "nbformat": 4,
 "nbformat_minor": 2
}
